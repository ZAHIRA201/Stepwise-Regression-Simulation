{
  "cells": [
    {
      "cell_type": "markdown",
      "id": "f50361fb",
      "metadata": {
        "id": "f50361fb"
      },
      "source": [
        "# 💚Stepwise regression\n",
        "  "
      ]
    },
    {
      "cell_type": "markdown",
      "id": "fa61bb08",
      "metadata": {
        "id": "fa61bb08"
      },
      "source": [
        "# ✅backward stepwise regression\n",
        "   "
      ]
    },
    {
      "cell_type": "code",
      "execution_count": null,
      "id": "d882044c",
      "metadata": {
        "id": "d882044c",
        "outputId": "04def3e8-1b6d-45ab-9e94-3904dc1afe31"
      },
      "outputs": [
        {
          "data": {
            "text/html": [
              "<table>\n",
              "<thead><tr><th></th><th scope=col>mpg</th><th scope=col>cyl</th><th scope=col>disp</th><th scope=col>hp</th><th scope=col>drat</th><th scope=col>wt</th><th scope=col>qsec</th><th scope=col>vs</th><th scope=col>am</th><th scope=col>gear</th><th scope=col>carb</th></tr></thead>\n",
              "<tbody>\n",
              "\t<tr><th scope=row>Mazda RX4</th><td>21.0 </td><td>6    </td><td>160  </td><td>110  </td><td>3.90 </td><td>2.620</td><td>16.46</td><td>0    </td><td>1    </td><td>4    </td><td>4    </td></tr>\n",
              "\t<tr><th scope=row>Mazda RX4 Wag</th><td>21.0 </td><td>6    </td><td>160  </td><td>110  </td><td>3.90 </td><td>2.875</td><td>17.02</td><td>0    </td><td>1    </td><td>4    </td><td>4    </td></tr>\n",
              "\t<tr><th scope=row>Datsun 710</th><td>22.8 </td><td>4    </td><td>108  </td><td> 93  </td><td>3.85 </td><td>2.320</td><td>18.61</td><td>1    </td><td>1    </td><td>4    </td><td>1    </td></tr>\n",
              "\t<tr><th scope=row>Hornet 4 Drive</th><td>21.4 </td><td>6    </td><td>258  </td><td>110  </td><td>3.08 </td><td>3.215</td><td>19.44</td><td>1    </td><td>0    </td><td>3    </td><td>1    </td></tr>\n",
              "\t<tr><th scope=row>Hornet Sportabout</th><td>18.7 </td><td>8    </td><td>360  </td><td>175  </td><td>3.15 </td><td>3.440</td><td>17.02</td><td>0    </td><td>0    </td><td>3    </td><td>2    </td></tr>\n",
              "\t<tr><th scope=row>Valiant</th><td>18.1 </td><td>6    </td><td>225  </td><td>105  </td><td>2.76 </td><td>3.460</td><td>20.22</td><td>1    </td><td>0    </td><td>3    </td><td>1    </td></tr>\n",
              "</tbody>\n",
              "</table>\n"
            ],
            "text/latex": [
              "\\begin{tabular}{r|lllllllllll}\n",
              "  & mpg & cyl & disp & hp & drat & wt & qsec & vs & am & gear & carb\\\\\n",
              "\\hline\n",
              "\tMazda RX4 & 21.0  & 6     & 160   & 110   & 3.90  & 2.620 & 16.46 & 0     & 1     & 4     & 4    \\\\\n",
              "\tMazda RX4 Wag & 21.0  & 6     & 160   & 110   & 3.90  & 2.875 & 17.02 & 0     & 1     & 4     & 4    \\\\\n",
              "\tDatsun 710 & 22.8  & 4     & 108   &  93   & 3.85  & 2.320 & 18.61 & 1     & 1     & 4     & 1    \\\\\n",
              "\tHornet 4 Drive & 21.4  & 6     & 258   & 110   & 3.08  & 3.215 & 19.44 & 1     & 0     & 3     & 1    \\\\\n",
              "\tHornet Sportabout & 18.7  & 8     & 360   & 175   & 3.15  & 3.440 & 17.02 & 0     & 0     & 3     & 2    \\\\\n",
              "\tValiant & 18.1  & 6     & 225   & 105   & 2.76  & 3.460 & 20.22 & 1     & 0     & 3     & 1    \\\\\n",
              "\\end{tabular}\n"
            ],
            "text/markdown": [
              "\n",
              "| <!--/--> | mpg | cyl | disp | hp | drat | wt | qsec | vs | am | gear | carb |\n",
              "|---|---|---|---|---|---|---|---|---|---|---|---|\n",
              "| Mazda RX4 | 21.0  | 6     | 160   | 110   | 3.90  | 2.620 | 16.46 | 0     | 1     | 4     | 4     |\n",
              "| Mazda RX4 Wag | 21.0  | 6     | 160   | 110   | 3.90  | 2.875 | 17.02 | 0     | 1     | 4     | 4     |\n",
              "| Datsun 710 | 22.8  | 4     | 108   |  93   | 3.85  | 2.320 | 18.61 | 1     | 1     | 4     | 1     |\n",
              "| Hornet 4 Drive | 21.4  | 6     | 258   | 110   | 3.08  | 3.215 | 19.44 | 1     | 0     | 3     | 1     |\n",
              "| Hornet Sportabout | 18.7  | 8     | 360   | 175   | 3.15  | 3.440 | 17.02 | 0     | 0     | 3     | 2     |\n",
              "| Valiant | 18.1  | 6     | 225   | 105   | 2.76  | 3.460 | 20.22 | 1     | 0     | 3     | 1     |\n",
              "\n"
            ],
            "text/plain": [
              "                  mpg  cyl disp hp  drat wt    qsec  vs am gear carb\n",
              "Mazda RX4         21.0 6   160  110 3.90 2.620 16.46 0  1  4    4   \n",
              "Mazda RX4 Wag     21.0 6   160  110 3.90 2.875 17.02 0  1  4    4   \n",
              "Datsun 710        22.8 4   108   93 3.85 2.320 18.61 1  1  4    1   \n",
              "Hornet 4 Drive    21.4 6   258  110 3.08 3.215 19.44 1  0  3    1   \n",
              "Hornet Sportabout 18.7 8   360  175 3.15 3.440 17.02 0  0  3    2   \n",
              "Valiant           18.1 6   225  105 2.76 3.460 20.22 1  0  3    1   "
            ]
          },
          "metadata": {},
          "output_type": "display_data"
        }
      ],
      "source": [
        "#we here use a built-in dataset in R which is mtcars\n",
        "head(mtcars)"
      ]
    },
    {
      "cell_type": "code",
      "execution_count": null,
      "id": "8d3dc2cc",
      "metadata": {
        "id": "8d3dc2cc",
        "outputId": "4aea4601-fc3f-4eb5-f93c-ac7166afcd3e"
      },
      "outputs": [
        {
          "data": {
            "text/plain": [
              "mpg ~ cyl + disp + hp + drat + wt + qsec + vs + am + gear + carb"
            ]
          },
          "metadata": {},
          "output_type": "display_data"
        }
      ],
      "source": [
        "model = lm(mpg ~ . ,data= mtcars)\n",
        "formula(model)"
      ]
    },
    {
      "cell_type": "code",
      "execution_count": null,
      "id": "48fea6c0",
      "metadata": {
        "id": "48fea6c0",
        "outputId": "683d25ed-3c60-4400-f6fb-f4dec6f325a0"
      },
      "outputs": [
        {
          "data": {
            "text/plain": [
              "\n",
              "Call:\n",
              "lm(formula = mpg ~ ., data = mtcars)\n",
              "\n",
              "Residuals:\n",
              "    Min      1Q  Median      3Q     Max \n",
              "-3.4506 -1.6044 -0.1196  1.2193  4.6271 \n",
              "\n",
              "Coefficients:\n",
              "            Estimate Std. Error t value Pr(>|t|)  \n",
              "(Intercept) 12.30337   18.71788   0.657   0.5181  \n",
              "cyl         -0.11144    1.04502  -0.107   0.9161  \n",
              "disp         0.01334    0.01786   0.747   0.4635  \n",
              "hp          -0.02148    0.02177  -0.987   0.3350  \n",
              "drat         0.78711    1.63537   0.481   0.6353  \n",
              "wt          -3.71530    1.89441  -1.961   0.0633 .\n",
              "qsec         0.82104    0.73084   1.123   0.2739  \n",
              "vs           0.31776    2.10451   0.151   0.8814  \n",
              "am           2.52023    2.05665   1.225   0.2340  \n",
              "gear         0.65541    1.49326   0.439   0.6652  \n",
              "carb        -0.19942    0.82875  -0.241   0.8122  \n",
              "---\n",
              "Signif. codes:  0 '***' 0.001 '**' 0.01 '*' 0.05 '.' 0.1 ' ' 1\n",
              "\n",
              "Residual standard error: 2.65 on 21 degrees of freedom\n",
              "Multiple R-squared:  0.869,\tAdjusted R-squared:  0.8066 \n",
              "F-statistic: 13.93 on 10 and 21 DF,  p-value: 3.793e-07\n"
            ]
          },
          "metadata": {},
          "output_type": "display_data"
        }
      ],
      "source": [
        "summary(model)"
      ]
    },
    {
      "cell_type": "code",
      "execution_count": null,
      "id": "a14b1162",
      "metadata": {
        "id": "a14b1162",
        "outputId": "ed0dd852-f52f-4d26-ece0-ca81aae099c9"
      },
      "outputs": [
        {
          "name": "stdout",
          "output_type": "stream",
          "text": [
            "Start:  AIC=70.9\n",
            "mpg ~ cyl + disp + hp + drat + wt + qsec + vs + am + gear + carb\n",
            "\n",
            "       Df Sum of Sq    RSS    AIC\n",
            "- cyl   1    0.0799 147.57 68.915\n",
            "- vs    1    0.1601 147.66 68.932\n",
            "- carb  1    0.4067 147.90 68.986\n",
            "- gear  1    1.3531 148.85 69.190\n",
            "- drat  1    1.6270 149.12 69.249\n",
            "- disp  1    3.9167 151.41 69.736\n",
            "- hp    1    6.8399 154.33 70.348\n",
            "- qsec  1    8.8641 156.36 70.765\n",
            "<none>              147.49 70.898\n",
            "- am    1   10.5467 158.04 71.108\n",
            "- wt    1   27.0144 174.51 74.280\n",
            "\n",
            "Step:  AIC=68.92\n",
            "mpg ~ disp + hp + drat + wt + qsec + vs + am + gear + carb\n",
            "\n",
            "       Df Sum of Sq    RSS    AIC\n",
            "- vs    1    0.2685 147.84 66.973\n",
            "- carb  1    0.5201 148.09 67.028\n",
            "- gear  1    1.8211 149.40 67.308\n",
            "- drat  1    1.9826 149.56 67.342\n",
            "- disp  1    3.9009 151.47 67.750\n",
            "- hp    1    7.3632 154.94 68.473\n",
            "<none>              147.57 68.915\n",
            "- qsec  1   10.0933 157.67 69.032\n",
            "- am    1   11.8359 159.41 69.384\n",
            "- wt    1   27.0280 174.60 72.297\n",
            "\n",
            "Step:  AIC=66.97\n",
            "mpg ~ disp + hp + drat + wt + qsec + am + gear + carb\n",
            "\n",
            "       Df Sum of Sq    RSS    AIC\n",
            "- carb  1    0.6855 148.53 65.121\n",
            "- gear  1    2.1437 149.99 65.434\n",
            "- drat  1    2.2139 150.06 65.449\n",
            "- disp  1    3.6467 151.49 65.753\n",
            "- hp    1    7.1060 154.95 66.475\n",
            "<none>              147.84 66.973\n",
            "- am    1   11.5694 159.41 67.384\n",
            "- qsec  1   15.6830 163.53 68.200\n",
            "- wt    1   27.3799 175.22 70.410\n",
            "\n",
            "Step:  AIC=65.12\n",
            "mpg ~ disp + hp + drat + wt + qsec + am + gear\n",
            "\n",
            "       Df Sum of Sq    RSS    AIC\n",
            "- gear  1     1.565 150.09 63.457\n",
            "- drat  1     1.932 150.46 63.535\n",
            "<none>              148.53 65.121\n",
            "- disp  1    10.110 158.64 65.229\n",
            "- am    1    12.323 160.85 65.672\n",
            "- hp    1    14.826 163.35 66.166\n",
            "- qsec  1    26.408 174.94 68.358\n",
            "- wt    1    69.127 217.66 75.350\n",
            "\n",
            "Step:  AIC=63.46\n",
            "mpg ~ disp + hp + drat + wt + qsec + am\n",
            "\n",
            "       Df Sum of Sq    RSS    AIC\n",
            "- drat  1     3.345 153.44 62.162\n",
            "- disp  1     8.545 158.64 63.229\n",
            "<none>              150.09 63.457\n",
            "- hp    1    13.285 163.38 64.171\n",
            "- am    1    20.036 170.13 65.466\n",
            "- qsec  1    25.574 175.67 66.491\n",
            "- wt    1    67.572 217.66 73.351\n",
            "\n",
            "Step:  AIC=62.16\n",
            "mpg ~ disp + hp + wt + qsec + am\n",
            "\n",
            "       Df Sum of Sq    RSS    AIC\n",
            "- disp  1     6.629 160.07 61.515\n",
            "<none>              153.44 62.162\n",
            "- hp    1    12.572 166.01 62.682\n",
            "- qsec  1    26.470 179.91 65.255\n",
            "- am    1    32.198 185.63 66.258\n",
            "- wt    1    69.043 222.48 72.051\n",
            "\n",
            "Step:  AIC=61.52\n",
            "mpg ~ hp + wt + qsec + am\n",
            "\n",
            "       Df Sum of Sq    RSS    AIC\n",
            "- hp    1     9.219 169.29 61.307\n",
            "<none>              160.07 61.515\n",
            "- qsec  1    20.225 180.29 63.323\n",
            "- am    1    25.993 186.06 64.331\n",
            "- wt    1    78.494 238.56 72.284\n",
            "\n",
            "Step:  AIC=61.31\n",
            "mpg ~ wt + qsec + am\n",
            "\n",
            "       Df Sum of Sq    RSS    AIC\n",
            "<none>              169.29 61.307\n",
            "- am    1    26.178 195.46 63.908\n",
            "- qsec  1   109.034 278.32 75.217\n",
            "- wt    1   183.347 352.63 82.790\n"
          ]
        },
        {
          "data": {
            "text/plain": [
              "\n",
              "Call:\n",
              "lm(formula = mpg ~ wt + qsec + am, data = mtcars)\n",
              "\n",
              "Coefficients:\n",
              "(Intercept)           wt         qsec           am  \n",
              "      9.618       -3.917        1.226        2.936  \n"
            ]
          },
          "metadata": {},
          "output_type": "display_data"
        }
      ],
      "source": [
        "step(model, direction = \"backward\")\n"
      ]
    },
    {
      "cell_type": "code",
      "source": [
        "mod=lm(formula = mpg ~ wt + qsec + am, data = mtcars)\n",
        "summary(mod)"
      ],
      "metadata": {
        "colab": {
          "base_uri": "https://localhost:8080/",
          "height": 364
        },
        "id": "dqCvdvH5R-j4",
        "outputId": "ed283f30-cbe6-4557-ec4f-aa696038c91e"
      },
      "id": "dqCvdvH5R-j4",
      "execution_count": null,
      "outputs": [
        {
          "output_type": "display_data",
          "data": {
            "text/plain": [
              "\n",
              "Call:\n",
              "lm(formula = mpg ~ wt + qsec + am, data = mtcars)\n",
              "\n",
              "Residuals:\n",
              "    Min      1Q  Median      3Q     Max \n",
              "-3.4811 -1.5555 -0.7257  1.4110  4.6610 \n",
              "\n",
              "Coefficients:\n",
              "            Estimate Std. Error t value Pr(>|t|)    \n",
              "(Intercept)   9.6178     6.9596   1.382 0.177915    \n",
              "wt           -3.9165     0.7112  -5.507 6.95e-06 ***\n",
              "qsec          1.2259     0.2887   4.247 0.000216 ***\n",
              "am            2.9358     1.4109   2.081 0.046716 *  \n",
              "---\n",
              "Signif. codes:  0 ‘***’ 0.001 ‘**’ 0.01 ‘*’ 0.05 ‘.’ 0.1 ‘ ’ 1\n",
              "\n",
              "Residual standard error: 2.459 on 28 degrees of freedom\n",
              "Multiple R-squared:  0.8497,\tAdjusted R-squared:  0.8336 \n",
              "F-statistic: 52.75 on 3 and 28 DF,  p-value: 1.21e-11\n"
            ]
          },
          "metadata": {}
        }
      ]
    },
    {
      "cell_type": "markdown",
      "id": "3d8f7aa0",
      "metadata": {
        "id": "3d8f7aa0"
      },
      "source": [
        "❤Remember: lower AIC is better (:\n",
        "in backward case we obtain an AIC = 61.31 and the most predictor variables are  wt , qsec and am"
      ]
    },
    {
      "cell_type": "raw",
      "id": "4e573eef",
      "metadata": {
        "id": "4e573eef"
      },
      "source": [
        "wait a minute! what is that crazy AIC you are talking about?\n",
        "ok be patient!!"
      ]
    },
    {
      "cell_type": "markdown",
      "id": "02f8b0ee",
      "metadata": {
        "id": "02f8b0ee"
      },
      "source": [
        "# ✅Forward stepwise regression"
      ]
    },
    {
      "cell_type": "code",
      "execution_count": null,
      "id": "f5df922d",
      "metadata": {
        "id": "f5df922d",
        "outputId": "0ac4ac41-6484-41dc-a51c-d4b118bbe47b"
      },
      "outputs": [
        {
          "data": {
            "text/plain": [
              "\n",
              "Call:\n",
              "lm(formula = mpg ~ 1, data = mtcars)\n",
              "\n",
              "Residuals:\n",
              "    Min      1Q  Median      3Q     Max \n",
              "-9.6906 -4.6656 -0.8906  2.7094 13.8094 \n",
              "\n",
              "Coefficients:\n",
              "            Estimate Std. Error t value Pr(>|t|)    \n",
              "(Intercept)   20.091      1.065   18.86   <2e-16 ***\n",
              "---\n",
              "Signif. codes:  0 '***' 0.001 '**' 0.01 '*' 0.05 '.' 0.1 ' ' 1\n",
              "\n",
              "Residual standard error: 6.027 on 31 degrees of freedom\n"
            ]
          },
          "metadata": {},
          "output_type": "display_data"
        }
      ],
      "source": [
        "initial_model = lm(mpg ~ 1 ,data= mtcars)\n",
        "summary(initial_model)"
      ]
    },
    {
      "cell_type": "markdown",
      "source": [],
      "metadata": {
        "id": "zel1-vG8Aybu"
      },
      "id": "zel1-vG8Aybu"
    },
    {
      "cell_type": "code",
      "execution_count": null,
      "id": "08593059",
      "metadata": {
        "id": "08593059",
        "outputId": "cfa12449-5437-4bce-a6b7-0b9c531b1f58"
      },
      "outputs": [
        {
          "name": "stdout",
          "output_type": "stream",
          "text": [
            "Start:  AIC=115.94\n",
            "mpg ~ 1\n",
            "\n"
          ]
        },
        {
          "data": {
            "text/plain": [
              "\n",
              "Call:\n",
              "lm(formula = mpg ~ 1, data = mtcars)\n",
              "\n",
              "Coefficients:\n",
              "(Intercept)  \n",
              "      20.09  \n"
            ]
          },
          "metadata": {},
          "output_type": "display_data"
        }
      ],
      "source": [
        "step(initial_model, direction = \"forward\")"
      ]
    },
    {
      "cell_type": "code",
      "execution_count": null,
      "id": "713fe634",
      "metadata": {
        "id": "713fe634",
        "outputId": "fa1169a2-c4f2-4770-8137-1777b3c38693"
      },
      "outputs": [
        {
          "name": "stdout",
          "output_type": "stream",
          "text": [
            "Start:  AIC=115.94\n",
            "mpg ~ 1\n",
            "\n",
            "       Df Sum of Sq     RSS     AIC\n",
            "+ wt    1    847.73  278.32  73.217\n",
            "+ cyl   1    817.71  308.33  76.494\n",
            "+ disp  1    808.89  317.16  77.397\n",
            "+ hp    1    678.37  447.67  88.427\n",
            "+ drat  1    522.48  603.57  97.988\n",
            "+ vs    1    496.53  629.52  99.335\n",
            "+ am    1    405.15  720.90 103.672\n",
            "+ carb  1    341.78  784.27 106.369\n",
            "+ gear  1    259.75  866.30 109.552\n",
            "+ qsec  1    197.39  928.66 111.776\n",
            "<none>              1126.05 115.943\n",
            "\n",
            "Step:  AIC=73.22\n",
            "mpg ~ wt\n",
            "\n",
            "       Df Sum of Sq    RSS    AIC\n",
            "+ cyl   1    87.150 191.17 63.198\n",
            "+ hp    1    83.274 195.05 63.840\n",
            "+ qsec  1    82.858 195.46 63.908\n",
            "+ vs    1    54.228 224.09 68.283\n",
            "+ carb  1    44.602 233.72 69.628\n",
            "+ disp  1    31.639 246.68 71.356\n",
            "<none>              278.32 73.217\n",
            "+ drat  1     9.081 269.24 74.156\n",
            "+ gear  1     1.137 277.19 75.086\n",
            "+ am    1     0.002 278.32 75.217\n",
            "\n",
            "Step:  AIC=63.2\n",
            "mpg ~ wt + cyl\n",
            "\n",
            "       Df Sum of Sq    RSS    AIC\n",
            "+ hp    1   14.5514 176.62 62.665\n",
            "+ carb  1   13.7724 177.40 62.805\n",
            "<none>              191.17 63.198\n",
            "+ qsec  1   10.5674 180.60 63.378\n",
            "+ gear  1    3.0281 188.14 64.687\n",
            "+ disp  1    2.6796 188.49 64.746\n",
            "+ vs    1    0.7059 190.47 65.080\n",
            "+ am    1    0.1249 191.05 65.177\n",
            "+ drat  1    0.0010 191.17 65.198\n",
            "\n",
            "Step:  AIC=62.66\n",
            "mpg ~ wt + cyl + hp\n",
            "\n",
            "       Df Sum of Sq    RSS    AIC\n",
            "<none>              176.62 62.665\n",
            "+ am    1    6.6228 170.00 63.442\n",
            "+ disp  1    6.1762 170.44 63.526\n",
            "+ carb  1    2.5187 174.10 64.205\n",
            "+ drat  1    2.2453 174.38 64.255\n",
            "+ qsec  1    1.4010 175.22 64.410\n",
            "+ gear  1    0.8558 175.76 64.509\n",
            "+ vs    1    0.0599 176.56 64.654\n"
          ]
        },
        {
          "data": {
            "text/plain": [
              "\n",
              "Call:\n",
              "lm(formula = mpg ~ wt + cyl + hp, data = mtcars)\n",
              "\n",
              "Coefficients:\n",
              "(Intercept)           wt          cyl           hp  \n",
              "   38.75179     -3.16697     -0.94162     -0.01804  \n"
            ]
          },
          "metadata": {},
          "output_type": "display_data"
        }
      ],
      "source": [
        "step(initial_model, direction = \"forward\",scope=formula(model))"
      ]
    },
    {
      "cell_type": "markdown",
      "id": "470d91dc",
      "metadata": {
        "id": "470d91dc"
      },
      "source": [
        "Mais dans ce cas, la sélection directe(forward) nous avons obtenu l’AIC= 62.66 et les variables les plus significatives sont : wt, cyl et hp POURQUOI ? dans ce cas, la sélection en arrière est préférable car elle donne un AIC inférieur à l’avant"
      ]
    },
    {
      "cell_type": "markdown",
      "id": "c558b1da",
      "metadata": {
        "id": "c558b1da"
      },
      "source": [
        "❤Le choix entre une régression progressive en avant et en arrière dépend souvent de la question de recherche et des objectifs spécifiques de l’analyse. La régression progressive vers l’avant peut être préférable lorsque le chercheur veut construire un modèle à partir de zéro, tandis que la régression progressive vers l’arrière peut être préférable lorsque le chercheur veut tester un modèle complet et identifier les variables les plus importantes pour la prédiction."
      ]
    },
    {
      "cell_type": "markdown",
      "id": "544b36fe",
      "metadata": {
        "id": "544b36fe"
      },
      "source": [
        "# ***AIC***\n",
        " L'Information de Critère d'Akaike (AIC) est une mesure de la qualité d'ajustement d'un modèle statistique, souvent utilisée pour la sélection de modèles.\n",
        "\n",
        "Le AIC est déterminé en calculant -2 x log de la fonction de vraisemblance maximale du modèle, ajusté pour la complexité du modèle. Plus précisément, le AIC est défini comme suit:\n",
        "\n",
        "AIC = -2 log(L) + 2k\n",
        "\n",
        "où L est la fonction de vraisemblance maximale du modèle et k est le nombre de paramètres du modèle.\n",
        "\n",
        "Le AIC favorise les modèles qui ont une bonne qualité d'ajustement (c'est-à-dire une faible somme des carrés des résidus) tout en étant simples (c'est-à-dire ayant moins de paramètres). Par conséquent, un modèle avec un AIC plus faible est considéré comme meilleur qu'un modèle avec un AIC plus élevé.\n",
        "\n",
        "Il est courant d'utiliser le AIC pour comparer plusieurs modèles différents et choisir celui qui a le AIC le plus faible comme modèle final. Cependant, il est important de noter que le AIC ne doit pas être utilisé seul et doit être utilisé en conjonction avec d'autres critères de sélection de modèle.\n",
        "\n",
        "  La vraisemblance (likelihood en anglais) est une mesure de la probabilité d'observer une certaine série de données, étant donné un modèle statistique avec des paramètres estimés. En d'autres termes, la vraisemblance est la probabilité de voir les données que nous avons observées, si nous supposons que notre modèle est correct et que les paramètres que nous avons estimés sont les vraies valeurs des paramètres.\n",
        "\n",
        "  Le but de l'inférence statistique est de trouver la meilleure estimation des paramètres d'un modèle donné, et la vraisemblance est souvent utilisée comme mesure d'évaluation de la qualité des estimations de paramètres. La fonction de vraisemblance est souvent utilisée pour trouver les estimations de maximum de vraisemblance (Maximum Likelihood Estimation ou MLE en anglais), qui est la méthode d'estimation des paramètres la plus courante dans de nombreux modèles statistiques.\n",
        "   "
      ]
    }
  ],
  "metadata": {
    "kernelspec": {
      "display_name": "R",
      "language": "R",
      "name": "ir"
    },
    "language_info": {
      "codemirror_mode": "r",
      "file_extension": ".r",
      "mimetype": "text/x-r-source",
      "name": "R",
      "pygments_lexer": "r",
      "version": "3.6.1"
    },
    "colab": {
      "provenance": []
    }
  },
  "nbformat": 4,
  "nbformat_minor": 5
}